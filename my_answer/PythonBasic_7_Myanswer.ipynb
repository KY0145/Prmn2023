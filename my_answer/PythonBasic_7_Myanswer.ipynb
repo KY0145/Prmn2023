{
  "nbformat": 4,
  "nbformat_minor": 0,
  "metadata": {
    "colab": {
      "provenance": [],
      "include_colab_link": true
    },
    "kernelspec": {
      "name": "python3",
      "display_name": "Python 3"
    },
    "language_info": {
      "name": "python"
    }
  },
  "cells": [
    {
      "cell_type": "markdown",
      "metadata": {
        "id": "view-in-github",
        "colab_type": "text"
      },
      "source": [
        "<a href=\"https://colab.research.google.com/github/KY0145/Prmn2023/blob/main/my_answer/PythonBasic_7_Myanswer.ipynb\" target=\"_parent\"><img src=\"https://colab.research.google.com/assets/colab-badge.svg\" alt=\"Open In Colab\"/></a>"
      ]
    },
    {
      "cell_type": "markdown",
      "source": [
        "# 第7章 課題"
      ],
      "metadata": {
        "id": "JR-0wWX5GOz4"
      }
    },
    {
      "cell_type": "markdown",
      "source": [
        "## 課題1"
      ],
      "metadata": {
        "id": "a-2Yu9QBGREf"
      }
    },
    {
      "cell_type": "markdown",
      "source": [
        "`ppap.txt`をアップロードしてください。\n",
        "\n",
        "ピコ太郎さんの「PPAP」という歌の歌詞が書かれています。\n",
        "まずはこのテキストファイルから歌詞を読み込んでください。"
      ],
      "metadata": {
        "id": "icanGSBB6KCB"
      }
    },
    {
      "cell_type": "markdown",
      "source": [
        "歌詞の単語の登場回数を数え、\n",
        "出現回数の多い順にソートしたディクショナリを関数で返してください\n",
        "\n",
        "その後、そのディクショナリを出力してください"
      ],
      "metadata": {
        "id": "Wy8Sx90f6WTB"
      }
    },
    {
      "cell_type": "markdown",
      "source": [
        "＜実行結果＞\n",
        "``` py\n",
        "{'pen': 8, 'i': 4, 'have': 4, 'apple': 4, 'pineapple': 4, 'a': 3, 'ppap': 1, 'an': 1}\n",
        "```"
      ],
      "metadata": {
        "id": "0Z2-_1dAQENU"
      }
    },
    {
      "cell_type": "code",
      "source": [
        "# 入力用（テキスト読み込み）\n",
        "with open('ppap.txt', mode='r+') as f:\n",
        "  text = ''\n",
        "  line = f.readline()\n",
        "  while line:\n",
        "    text += line\n",
        "    line = f.readline()"
      ],
      "metadata": {
        "id": "5DzB6nze6d65"
      },
      "execution_count": null,
      "outputs": []
    },
    {
      "cell_type": "code",
      "source": [
        "# 入力用（カウントとメイン部分）\n",
        "import string\n",
        "def word_count(text):\n",
        "  word_dic = {}\n",
        "\n",
        "  text = text.replace('！', '')\n",
        "  text = text.replace('-', ' ')\n",
        "  text = text.translate(str.maketrans('', '', string.punctuation))\n",
        "  text = text.lower().split()\n",
        "\n",
        "  for word in text:\n",
        "    if word in word_dic:\n",
        "      word_dic[word] += 1\n",
        "    else:\n",
        "      word_dic[word] = 1\n",
        "\n",
        "  cnt_list = list(word_dic.values())\n",
        "  cnt_list.sort(reverse=True)\n",
        "  sorted_dic = {}\n",
        "\n",
        "  for cnt in cnt_list:\n",
        "    for k,v in word_dic.items():\n",
        "      if v == cnt:\n",
        "        sorted_dic[k] = v\n",
        "\n",
        "  return sorted_dic\n",
        "\n",
        "sorted_dic = word_count(text)\n",
        "print(sorted_dic)"
      ],
      "metadata": {
        "id": "NHsFskbC6fzq",
        "colab": {
          "base_uri": "https://localhost:8080/"
        },
        "outputId": "191ced71-70a0-4738-ce9b-61c7a834dd0b"
      },
      "execution_count": null,
      "outputs": [
        {
          "output_type": "stream",
          "name": "stdout",
          "text": [
            "{'pen': 8, 'i': 4, 'have': 4, 'apple': 4, 'pineapple': 4, 'a': 3, 'ppap': 1, 'an': 1}\n"
          ]
        }
      ]
    },
    {
      "cell_type": "markdown",
      "source": [
        "## 課題2"
      ],
      "metadata": {
        "id": "dSQu_cY6EpMk"
      }
    },
    {
      "cell_type": "markdown",
      "source": [
        "`toukei_seiseki.txt`をアップロードしてください。\n",
        "\n",
        "とある人の統計学の成績データになります。"
      ],
      "metadata": {
        "id": "b-ekHtnVEwsO"
      }
    },
    {
      "cell_type": "markdown",
      "source": [
        "成績評価を0~5の6段階でつけたいものとします。\n",
        "\n",
        "|成績|点数|\n",
        "|:---| :--- |\n",
        "|$A$|5|\n",
        "|$B^{+}$|4|\n",
        "|$B$|3|\n",
        "|$B^{-}$|2|\n",
        "|$C^{+}$|1|\n",
        "|$C$|0|\n"
      ],
      "metadata": {
        "id": "L3i6Z8xg9eHr"
      }
    },
    {
      "cell_type": "markdown",
      "source": [
        "上表のように成績を変換する関数を作成してください"
      ],
      "metadata": {
        "id": "EdC2oqvr9eHs"
      }
    },
    {
      "cell_type": "markdown",
      "source": [
        "この科目は、「5×全15回=最大点75点」に、\n",
        "「全14回×50点=最大点700点を25点に圧縮したもの」の和によって成績判定を行います。"
      ],
      "metadata": {
        "id": "CbT-Ni7g9eHs"
      }
    },
    {
      "cell_type": "markdown",
      "source": [
        "適切に関数を使い、以下のデータの成績評価を行えるようにしてください\n",
        "\n",
        "\n"
      ],
      "metadata": {
        "id": "lrIoPU8b9eHs"
      }
    },
    {
      "cell_type": "markdown",
      "source": [
        "＜例＞\n",
        "小テストの合計点は600点だったので25点満点に圧縮すると21.42点\n",
        "課題は全て$B^+$評価だったので4×15=60点\n",
        "合計点81.42点なので評定は「優」"
      ],
      "metadata": {
        "id": "-QKViYIF9eHt"
      }
    },
    {
      "cell_type": "code",
      "source": [
        "# 入力用\n",
        "seiseki_data = {'課題':[], '小テスト':[]}\n",
        "\n",
        "with open('toukei_seiseki.txt',mode='r+') as f:\n",
        "  line = f.readline()\n",
        "  while line:\n",
        "    if line.split()[0].isdigit():\n",
        "      seiseki_data['課題'].append(line.split()[1])\n",
        "      if len(line.split()) == 3:\n",
        "        seiseki_data['小テスト'].append(int(line.split()[2]))\n",
        "    line = f.readline()\n",
        "\n",
        "work = 0\n",
        "for seiseki in seiseki_data['課題']:\n",
        "  seiseki = seiseki.replace('A','5').replace('B+','4').replace('B','3').replace('B-','2').replace('C+','1').replace('C','0')\n",
        "  work += int(seiseki)\n",
        "print(f'課題：{work}点')\n",
        "\n",
        "test = sum(seiseki_data['小テスト']) / 700 * 25\n",
        "print(f'小テスト：{test}点')\n",
        "\n",
        "score = work + test\n",
        "print(f'合計：{score}点')\n",
        "\n",
        "if score >= 90:\n",
        "  print('評定：秀')\n",
        "elif score >= 80:\n",
        "  print('評定：優')\n",
        "elif score >= 70:\n",
        "  print('評定：良')\n",
        "elif score >= 60:\n",
        "  print('評定：可')\n",
        "else:\n",
        "  print('評定：不可')"
      ],
      "metadata": {
        "id": "vZ1lU1LLGX2j",
        "colab": {
          "base_uri": "https://localhost:8080/"
        },
        "outputId": "2f3da8d7-67bd-4431-8592-b96eef7f2a29"
      },
      "execution_count": null,
      "outputs": [
        {
          "output_type": "stream",
          "name": "stdout",
          "text": [
            "課題：70点\n",
            "小テスト：21.607142857142858点\n",
            "合計：91.60714285714286点\n",
            "評定：秀\n"
          ]
        }
      ]
    },
    {
      "cell_type": "code",
      "source": [
        "# 参考 成績データの空ディクショナリ\n",
        "test_data = {\"課題\":[],\"小テスト\":[]}"
      ],
      "metadata": {
        "id": "B6heQ-a8Fk2C"
      },
      "execution_count": null,
      "outputs": []
    },
    {
      "cell_type": "markdown",
      "source": [
        "### 課題2 補足"
      ],
      "metadata": {
        "id": "E8ZRqBlkGW2D"
      }
    },
    {
      "cell_type": "markdown",
      "source": [
        "文字列を置換したいときは**`replace`メソッド**を使います。\n",
        "\n",
        "複数回行いたいときは`replace`メソッドを複数回続けます。"
      ],
      "metadata": {
        "id": "s4IPiuNZGd96"
      }
    },
    {
      "cell_type": "code",
      "source": [
        "hantei_list = [\"60\",\"70\",\"80\",\"90\"]\n",
        "kekka_list = []\n",
        "\n",
        "\"\"\"\n",
        "リストから要素を取り出して指定の値を置換する\n",
        "\"\"\"\n",
        "for hantei in hantei_list:\n",
        "  hantei = hantei.replace(\"60\",\"可\").replace(\"70\",\"良\").replace(\"80\",\"優\").replace(\"90\",\"秀\")\n",
        "  kekka_list.append(hantei)\n",
        "\n",
        "print(kekka_list)"
      ],
      "metadata": {
        "colab": {
          "base_uri": "https://localhost:8080/"
        },
        "id": "83OyhJkDGupg",
        "outputId": "f242a522-4daf-4bf7-a2ec-76a9b2b8c04a"
      },
      "execution_count": null,
      "outputs": [
        {
          "output_type": "stream",
          "name": "stdout",
          "text": [
            "['可', '良', '優', '秀']\n"
          ]
        }
      ]
    },
    {
      "cell_type": "markdown",
      "source": [
        "## 課題3"
      ],
      "metadata": {
        "id": "ImanFioRIU6F"
      }
    },
    {
      "cell_type": "markdown",
      "source": [
        "`all_seiseki.txt`をアップロードしてください。\n",
        "\n",
        "とある人の2年春学期までの成績データになります。"
      ],
      "metadata": {
        "id": "9Q_HBLgfIXVf"
      }
    },
    {
      "cell_type": "markdown",
      "source": [
        "GPAを計算したいものとします。\n",
        "成績に付与されるGPは以下の通りです。\n",
        "\n",
        "|成績|GP|\n",
        "|:---| :--- |\n",
        "|秀|4|\n",
        "|優|3|\n",
        "|良|2|\n",
        "|可|1|\n",
        "|不可|0|"
      ],
      "metadata": {
        "id": "wimEVJZUMWoL"
      }
    },
    {
      "cell_type": "markdown",
      "source": [
        "上表のように成績を変換する関数を作成してください"
      ],
      "metadata": {
        "id": "vLfMefKLNZsq"
      }
    },
    {
      "cell_type": "markdown",
      "source": [
        "GPAの計算式は以下の通りです。\n",
        "$$\n",
        "GPA = \\frac{(GP×そのGPの単位数) の合計}{履修単位数}\n",
        "$$"
      ],
      "metadata": {
        "id": "pJ-Cltm9NbZ6"
      }
    },
    {
      "cell_type": "markdown",
      "source": [
        "適切に関数を使い、テキストデータのGPAを算出してください"
      ],
      "metadata": {
        "id": "k_jm9pzkOFAw"
      }
    },
    {
      "cell_type": "code",
      "source": [
        "# 入力用\n",
        "one_unit_class = []\n",
        "seiseki_data = {'授業':[], '成績':[]}\n",
        "\n",
        "with open('all_seiseki.txt',mode='r+') as f:\n",
        "  line = f.readline()\n",
        "  while line:\n",
        "    if line.split()[0].isdigit():\n",
        "      if line.split()[5] == '1':\n",
        "        one_unit_class.append(line.split()[3])\n",
        "      seiseki_data['授業'].append(line.split()[3])\n",
        "      seiseki_data['成績'].append(line.split()[4])\n",
        "    line = f.readline()\n",
        "\n",
        "GPA = 0\n",
        "unit = 0\n",
        "for i in range(len(seiseki_data['授業'])):\n",
        "  score = seiseki_data['成績'][i].replace('不可','0').replace('可','1').replace('良','2').replace('優','3').replace('秀','4')\n",
        "  score = int(score)\n",
        "  if seiseki_data['授業'][i] in one_unit_class:\n",
        "    unit += 1\n",
        "    GPA += score\n",
        "  else:\n",
        "    unit += 2\n",
        "    GPA += score * 2\n",
        "\n",
        "GPA /= unit\n",
        "\n",
        "print(f'GPA：{GPA}')"
      ],
      "metadata": {
        "id": "4_KjT73rJAkT",
        "colab": {
          "base_uri": "https://localhost:8080/"
        },
        "outputId": "98160632-1d41-480c-9825-b30d63b8827d"
      },
      "execution_count": null,
      "outputs": [
        {
          "output_type": "stream",
          "name": "stdout",
          "text": [
            "GPA：3.262295081967213\n"
          ]
        }
      ]
    },
    {
      "cell_type": "code",
      "source": [
        "# 参考 1単位の授業をまとめたリスト\n",
        "one_unit_class = []"
      ],
      "metadata": {
        "id": "LiCCAoDqJA5r"
      },
      "execution_count": null,
      "outputs": []
    },
    {
      "cell_type": "code",
      "source": [
        "# 参考 成績データの空ディクショナリ\n",
        "seiseki_data = {\"授業\":[],\"成績\":[]}"
      ],
      "metadata": {
        "id": "AUVzFPP1JJlO"
      },
      "execution_count": null,
      "outputs": []
    }
  ]
}