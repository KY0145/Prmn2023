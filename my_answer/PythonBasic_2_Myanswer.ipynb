{
  "nbformat": 4,
  "nbformat_minor": 0,
  "metadata": {
    "colab": {
      "provenance": [],
      "include_colab_link": true
    },
    "kernelspec": {
      "name": "python3",
      "display_name": "Python 3"
    },
    "language_info": {
      "name": "python"
    }
  },
  "cells": [
    {
      "cell_type": "markdown",
      "metadata": {
        "id": "view-in-github",
        "colab_type": "text"
      },
      "source": [
        "<a href=\"https://colab.research.google.com/github/KY0145/Prmn2023/blob/main/my_answer/PythonBasic_2_Myanswer.ipynb\" target=\"_parent\"><img src=\"https://colab.research.google.com/assets/colab-badge.svg\" alt=\"Open In Colab\"/></a>"
      ]
    },
    {
      "cell_type": "markdown",
      "source": [
        "# 第2章 課題"
      ],
      "metadata": {
        "id": "C44SsXDACtHu"
      }
    },
    {
      "cell_type": "markdown",
      "source": [
        "## 課題1"
      ],
      "metadata": {
        "id": "OnkezWHRCwr9"
      }
    },
    {
      "cell_type": "markdown",
      "source": [
        "for文を使って、以下のように出力してください"
      ],
      "metadata": {
        "id": "q32rK-cECzCl"
      }
    },
    {
      "cell_type": "markdown",
      "source": [
        "![oSFeQoX.png](https://i.imgur.com/oSFeQoX.png)"
      ],
      "metadata": {
        "id": "FxMcxznVB6cI"
      }
    },
    {
      "cell_type": "code",
      "source": [
        "# 入力用\n",
        "for i in range(4):\n",
        "  a = ''\n",
        "  a += ' '*(3-i)\n",
        "  a += '*'*(2*i+1)\n",
        "  print(a)"
      ],
      "metadata": {
        "id": "iBFSsrdRC5Zt",
        "colab": {
          "base_uri": "https://localhost:8080/"
        },
        "outputId": "421b90a0-4740-4886-9fe6-a93430591b98"
      },
      "execution_count": 1,
      "outputs": [
        {
          "output_type": "stream",
          "name": "stdout",
          "text": [
            "   *\n",
            "  ***\n",
            " *****\n",
            "*******\n"
          ]
        }
      ]
    },
    {
      "cell_type": "markdown",
      "source": [
        "## 課題2"
      ],
      "metadata": {
        "id": "gIn-UqGTCagu"
      }
    },
    {
      "cell_type": "markdown",
      "source": [
        "課題1の場合を`n=4`として、nを自分で設定して出力できるようにしてください"
      ],
      "metadata": {
        "id": "ltdiEdqYDFy8"
      }
    },
    {
      "cell_type": "markdown",
      "source": [
        "＜例＞ n=5の場合  \n",
        "![o5NjugQ.png](https://imgur.com/o5NjugQ.png)"
      ],
      "metadata": {
        "id": "hw0FM8BRDHz1"
      }
    },
    {
      "cell_type": "code",
      "source": [
        "# 入力用\n",
        "n = int(input())\n",
        "for i in range(n):\n",
        "  a = ''\n",
        "  a += ' '*(n-1-i)\n",
        "  a += '*'*(2*i+1)\n",
        "  print(a)"
      ],
      "metadata": {
        "id": "upd76Tv-FrIB",
        "colab": {
          "base_uri": "https://localhost:8080/"
        },
        "outputId": "e280750e-31bf-4ffa-9568-56b60b2ffd18"
      },
      "execution_count": 6,
      "outputs": [
        {
          "output_type": "stream",
          "name": "stdout",
          "text": [
            "15\n",
            "              *\n",
            "             ***\n",
            "            *****\n",
            "           *******\n",
            "          *********\n",
            "         ***********\n",
            "        *************\n",
            "       ***************\n",
            "      *****************\n",
            "     *******************\n",
            "    *********************\n",
            "   ***********************\n",
            "  *************************\n",
            " ***************************\n",
            "*****************************\n"
          ]
        }
      ]
    },
    {
      "cell_type": "markdown",
      "source": [
        "## 課題3"
      ],
      "metadata": {
        "id": "tLMJvwBDE7wT"
      }
    },
    {
      "cell_type": "markdown",
      "source": [
        "for文を使って、以下のように出力してください"
      ],
      "metadata": {
        "id": "vZNvWsG7E99q"
      }
    },
    {
      "cell_type": "markdown",
      "source": [
        "![oSirXec.png](https://imgur.com/oSirXec.png)"
      ],
      "metadata": {
        "id": "ijOV-ilXGDNR"
      }
    },
    {
      "cell_type": "code",
      "source": [
        "# 入力用\n",
        "for i in range(4):\n",
        "  a = ''\n",
        "  a += ' ' * (3-i)\n",
        "  a += '*' * (2*i+1)\n",
        "  print(a)\n",
        "\n",
        "for i in range(3):\n",
        "  a = ''\n",
        "  a += ' ' * (i+1)\n",
        "  a += '*' * ((2-i)*2+1)\n",
        "  print(a)"
      ],
      "metadata": {
        "id": "Q5Ob9uZpGIE3",
        "colab": {
          "base_uri": "https://localhost:8080/"
        },
        "outputId": "08313856-3a7a-4ddc-b12a-e02e983e8d03"
      },
      "execution_count": 7,
      "outputs": [
        {
          "output_type": "stream",
          "name": "stdout",
          "text": [
            "   *\n",
            "  ***\n",
            " *****\n",
            "*******\n",
            " *****\n",
            "  ***\n",
            "   *\n"
          ]
        }
      ]
    },
    {
      "cell_type": "markdown",
      "source": [
        "## 課題4"
      ],
      "metadata": {
        "id": "Oh7whOPkGQ3I"
      }
    },
    {
      "cell_type": "markdown",
      "source": [
        "課題3の場合を`n=4`として、nを自分で設定して出力できるようにしてください"
      ],
      "metadata": {
        "id": "PnvT8MQbGS03"
      }
    },
    {
      "cell_type": "markdown",
      "source": [
        "＜例＞ n=5の場合  \n",
        "\n",
        "![my4J17V.png](https://i.imgur.com/my4J17V.png)"
      ],
      "metadata": {
        "id": "ZujkAbVMGzhn"
      }
    },
    {
      "cell_type": "code",
      "source": [
        "# 入力用\n",
        "n = int(input())\n",
        "for i in range(n):\n",
        "  a = ''\n",
        "  a += ' '*(n-1-i)\n",
        "  a += '*'*(2*i+1)\n",
        "  print(a)\n",
        "for i in range(n-1):\n",
        "  a = ''\n",
        "  a += ' ' * (i+1)\n",
        "  a += '*' * ((n-2-i)*2+1)\n",
        "  print(a)"
      ],
      "metadata": {
        "id": "hCFNQ7mWG99u",
        "colab": {
          "base_uri": "https://localhost:8080/"
        },
        "outputId": "80ac0b72-2f09-4c3b-cb69-7d05c74770f5"
      },
      "execution_count": 13,
      "outputs": [
        {
          "output_type": "stream",
          "name": "stdout",
          "text": [
            "20\n",
            "                   *\n",
            "                  ***\n",
            "                 *****\n",
            "                *******\n",
            "               *********\n",
            "              ***********\n",
            "             *************\n",
            "            ***************\n",
            "           *****************\n",
            "          *******************\n",
            "         *********************\n",
            "        ***********************\n",
            "       *************************\n",
            "      ***************************\n",
            "     *****************************\n",
            "    *******************************\n",
            "   *********************************\n",
            "  ***********************************\n",
            " *************************************\n",
            "***************************************\n",
            " *************************************\n",
            "  ***********************************\n",
            "   *********************************\n",
            "    *******************************\n",
            "     *****************************\n",
            "      ***************************\n",
            "       *************************\n",
            "        ***********************\n",
            "         *********************\n",
            "          *******************\n",
            "           *****************\n",
            "            ***************\n",
            "             *************\n",
            "              ***********\n",
            "               *********\n",
            "                *******\n",
            "                 *****\n",
            "                  ***\n",
            "                   *\n"
          ]
        }
      ]
    },
    {
      "cell_type": "markdown",
      "source": [
        "## 課題5"
      ],
      "metadata": {
        "id": "R2MvOK4wHJlK"
      }
    },
    {
      "cell_type": "markdown",
      "source": [
        "for文を使って、以下のように出力してください"
      ],
      "metadata": {
        "id": "ddMIUoaKHcwd"
      }
    },
    {
      "cell_type": "markdown",
      "source": [
        "![vDUi5eM.png](https://imgur.com/vDUi5eM.png)"
      ],
      "metadata": {
        "id": "CD1cVUlWHLVO"
      }
    },
    {
      "cell_type": "code",
      "source": [
        "# 入力用\n",
        "for i in range(4):\n",
        "  a = ''\n",
        "  b = 3-i\n",
        "  c = 2*i+1\n",
        "  d = 5-2*i\n",
        "\n",
        "  a += ' ' * b\n",
        "  a += '*' * c\n",
        "  if d>=0:\n",
        "    a += ' ' * d\n",
        "    a += '*' * c\n",
        "  else:\n",
        "    a += '*' * (c+d)\n",
        "\n",
        "  print(a)\n",
        "\n",
        "for i in range(3):\n",
        "  a = ''\n",
        "  b = i+1\n",
        "  c = (2-i)*2+1\n",
        "  d = i*2+1\n",
        "\n",
        "  a += ' ' * b\n",
        "  a += '*' * c\n",
        "  a += ' ' * d\n",
        "  a += '*' * c\n",
        "\n",
        "  print(a)"
      ],
      "metadata": {
        "id": "1pDkfJpUHd93",
        "colab": {
          "base_uri": "https://localhost:8080/"
        },
        "outputId": "6615f32b-d714-4fdf-a737-bec7d22f3ed1"
      },
      "execution_count": 17,
      "outputs": [
        {
          "output_type": "stream",
          "name": "stdout",
          "text": [
            "   *     *\n",
            "  ***   ***\n",
            " ***** *****\n",
            "*************\n",
            " ***** *****\n",
            "  ***   ***\n",
            "   *     *\n"
          ]
        }
      ]
    },
    {
      "cell_type": "markdown",
      "source": [
        "## 課題6"
      ],
      "metadata": {
        "id": "oubbafOBHerl"
      }
    },
    {
      "cell_type": "markdown",
      "source": [
        "課題5の場合を`n=4`として、nを自分で設定して出力できるようにしてください"
      ],
      "metadata": {
        "id": "7SzgFdC-HzG9"
      }
    },
    {
      "cell_type": "markdown",
      "source": [
        "＜例＞ n=5の場合  \n",
        "\n",
        "![udkVlYG.png](https://imgur.com/udkVlYG.png)"
      ],
      "metadata": {
        "id": "LY8g9PVPH2OW"
      }
    },
    {
      "cell_type": "code",
      "source": [
        "# 入力用\n",
        "\n",
        "n = int(input())\n",
        "for i in range(n):\n",
        "  a = ''\n",
        "  b = n-1-i\n",
        "  c = 2*i+1\n",
        "  d = 2*n-3-2*i\n",
        "\n",
        "  a += ' ' * b\n",
        "  a += '*' * c\n",
        "  if d>=0:\n",
        "    a += ' ' * d\n",
        "    a += '*' * c\n",
        "  else:\n",
        "    a += '*' * (c+d)\n",
        "\n",
        "  print(a)\n",
        "\n",
        "for i in range(n-1):\n",
        "  a = ''\n",
        "  b = i+1\n",
        "  c = (n-1-i)*2-1\n",
        "  d = i*2+1\n",
        "\n",
        "  a += ' ' * b\n",
        "  a += '*' * c\n",
        "  a += ' ' * d\n",
        "  a += '*' * c\n",
        "\n",
        "  print(a)"
      ],
      "metadata": {
        "id": "XZOK5ulbH-tu",
        "colab": {
          "base_uri": "https://localhost:8080/"
        },
        "outputId": "ec120477-4483-4251-fc88-ef9e55f34ff1"
      },
      "execution_count": 21,
      "outputs": [
        {
          "output_type": "stream",
          "name": "stdout",
          "text": [
            "5\n",
            "    *       *\n",
            "   ***     ***\n",
            "  *****   *****\n",
            " ******* *******\n",
            "*****************\n",
            " ******* *******\n",
            "  *****   *****\n",
            "   ***     ***\n",
            "    *       *\n"
          ]
        }
      ]
    },
    {
      "cell_type": "markdown",
      "source": [
        "## 課題7"
      ],
      "metadata": {
        "id": "ouqTUmPQIKGF"
      }
    },
    {
      "cell_type": "markdown",
      "source": [
        "for文を使って、以下のように出力してください"
      ],
      "metadata": {
        "id": "WHSxdOHuIMRM"
      }
    },
    {
      "cell_type": "markdown",
      "source": [
        "![IuP0M16.png](https://imgur.com/IuP0M16.png)"
      ],
      "metadata": {
        "id": "-G--WFTkIM8s"
      }
    },
    {
      "cell_type": "code",
      "source": [
        "# 入力用\n",
        "def diamond(n,A):\n",
        "  for i in range(A,n):\n",
        "    a = ''\n",
        "    b = n-1-i\n",
        "    c = 2*i+1\n",
        "    d = 2*n-3-2*i\n",
        "\n",
        "    a += ' ' * b\n",
        "    a += '*' * c\n",
        "    if d>=0:\n",
        "      a += ' ' * d\n",
        "      a += '*' * c\n",
        "    else:\n",
        "      a += '*' * (c+d)\n",
        "\n",
        "    print(a)\n",
        "\n",
        "  for i in range(n-1):\n",
        "    a = ''\n",
        "    b = i+1\n",
        "    c = (n-1-i)*2-1\n",
        "    d = i*2+1\n",
        "\n",
        "    a += ' ' * b\n",
        "    a += '*' * c\n",
        "    a += ' ' * d\n",
        "    a += '*' * c\n",
        "\n",
        "    print(a)\n",
        "  return\n",
        "\n",
        "diamond(4,0)\n",
        "diamond(4,1)"
      ],
      "metadata": {
        "id": "BVXjDteuIijL",
        "colab": {
          "base_uri": "https://localhost:8080/"
        },
        "outputId": "1c1372bf-6263-4255-d209-8dedc9e575ec"
      },
      "execution_count": 23,
      "outputs": [
        {
          "output_type": "stream",
          "name": "stdout",
          "text": [
            "   *     *\n",
            "  ***   ***\n",
            " ***** *****\n",
            "*************\n",
            " ***** *****\n",
            "  ***   ***\n",
            "   *     *\n",
            "  ***   ***\n",
            " ***** *****\n",
            "*************\n",
            " ***** *****\n",
            "  ***   ***\n",
            "   *     *\n"
          ]
        }
      ]
    },
    {
      "cell_type": "markdown",
      "source": [
        "## 課題8"
      ],
      "metadata": {
        "id": "31u0ExX2IjWj"
      }
    },
    {
      "cell_type": "markdown",
      "source": [
        "課題7の場合を`n=4`として、nを自分で設定して出力できるようにしてください"
      ],
      "metadata": {
        "id": "zeOvmKarInpz"
      }
    },
    {
      "cell_type": "markdown",
      "source": [
        "＜例＞ n=5の場合  \n",
        "\n",
        "![AlTnu1k.png](https://imgur.com/AlTnu1k.png)"
      ],
      "metadata": {
        "id": "2uLR5sbKIov2"
      }
    },
    {
      "cell_type": "code",
      "source": [
        "# 入力用\n",
        "def diamond(n,A):\n",
        "  for i in range(A,n):\n",
        "    a = ''\n",
        "    b = n-1-i\n",
        "    c = 2*i+1\n",
        "    d = 2*n-3-2*i\n",
        "\n",
        "    a += ' ' * b\n",
        "    a += '*' * c\n",
        "    if d>=0:\n",
        "      a += ' ' * d\n",
        "      a += '*' * c\n",
        "    else:\n",
        "      a += '*' * (c+d)\n",
        "\n",
        "    print(a)\n",
        "\n",
        "  for i in range(n-1):\n",
        "    a = ''\n",
        "    b = i+1\n",
        "    c = (n-1-i)*2-1\n",
        "    d = i*2+1\n",
        "\n",
        "    a += ' ' * b\n",
        "    a += '*' * c\n",
        "    a += ' ' * d\n",
        "    a += '*' * c\n",
        "\n",
        "    print(a)\n",
        "  return\n",
        "\n",
        "n = int(input())\n",
        "diamond(n,0)\n",
        "diamond(n,1)"
      ],
      "metadata": {
        "id": "TXJaIVbYI_Cd",
        "colab": {
          "base_uri": "https://localhost:8080/"
        },
        "outputId": "62bb0222-32db-4aba-f71f-975b978650b5"
      },
      "execution_count": 27,
      "outputs": [
        {
          "output_type": "stream",
          "name": "stdout",
          "text": [
            "10\n",
            "         *                 *\n",
            "        ***               ***\n",
            "       *****             *****\n",
            "      *******           *******\n",
            "     *********         *********\n",
            "    ***********       ***********\n",
            "   *************     *************\n",
            "  ***************   ***************\n",
            " ***************** *****************\n",
            "*************************************\n",
            " ***************** *****************\n",
            "  ***************   ***************\n",
            "   *************     *************\n",
            "    ***********       ***********\n",
            "     *********         *********\n",
            "      *******           *******\n",
            "       *****             *****\n",
            "        ***               ***\n",
            "         *                 *\n",
            "        ***               ***\n",
            "       *****             *****\n",
            "      *******           *******\n",
            "     *********         *********\n",
            "    ***********       ***********\n",
            "   *************     *************\n",
            "  ***************   ***************\n",
            " ***************** *****************\n",
            "*************************************\n",
            " ***************** *****************\n",
            "  ***************   ***************\n",
            "   *************     *************\n",
            "    ***********       ***********\n",
            "     *********         *********\n",
            "      *******           *******\n",
            "       *****             *****\n",
            "        ***               ***\n",
            "         *                 *\n"
          ]
        }
      ]
    }
  ]
}